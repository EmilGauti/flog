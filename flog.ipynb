{
  "nbformat": 4,
  "nbformat_minor": 0,
  "metadata": {
    "colab": {
      "name": "flog.ipynb",
      "version": "0.3.2",
      "provenance": [],
      "collapsed_sections": [],
      "include_colab_link": true
    },
    "kernelspec": {
      "name": "python3",
      "display_name": "Python 3"
    },
    "accelerator": "GPU"
  },
  "cells": [
    {
      "cell_type": "markdown",
      "metadata": {
        "id": "view-in-github",
        "colab_type": "text"
      },
      "source": [
        "<a href=\"https://colab.research.google.com/github/EmilGauti/flog/blob/master/flog.ipynb\" target=\"_parent\"><img src=\"https://colab.research.google.com/assets/colab-badge.svg\" alt=\"Open In Colab\"/></a>"
      ]
    },
    {
      "metadata": {
        "id": "KdrmHJd0iwwS",
        "colab_type": "code",
        "colab": {}
      },
      "cell_type": "code",
      "source": [
        "import warnings\n",
        "warnings.filterwarnings(\"ignore\")"
      ],
      "execution_count": 0,
      "outputs": []
    },
    {
      "metadata": {
        "id": "CdbNU5SI-1Lh",
        "colab_type": "code",
        "outputId": "fb3d6497-16aa-455b-b288-1ed7f2420f5c",
        "colab": {
          "base_uri": "https://localhost:8080/",
          "height": 119
        }
      },
      "cell_type": "code",
      "source": [
        "import numpy as np\n",
        "import features as features\n",
        "\n",
        "from sklearn.model_selection import train_test_split\n",
        "from sklearn.linear_model import LogisticRegression\n",
        "\n",
        "#input: \n",
        "#filename: name of file to read from\n",
        "#shape: dimension of resulting array                   \n",
        "def read3DArrayFromFile(fileName,shape):                      \n",
        "    data = np.loadtxt(fileName, dtype = 'float32')\n",
        "    data = data.reshape(shape)\n",
        "    return(data)\n",
        "\n",
        "nrPatients = 24\n",
        "fs = 256 # Sampling rate\n",
        "nrChannels = 23\n",
        "seizureLength = 14 # seconds\n",
        "nrSeizures = 170\n",
        "fRange = 129\n",
        "M = 16\n",
        "fLowerLimit = 0.5\n",
        "fUpperLimit = 25\n",
        "dataShape = (nrSeizures,nrChannels,seizureLength*fs)\n",
        "\n",
        "# Read raw data\n",
        "seizureData = read3DArrayFromFile('seizureChunks14.txt',dataShape)\n",
        "nonSeizureData = read3DArrayFromFile('nonSeizureChunks14.txt',dataShape)\n",
        "allData = np.concatenate((seizureData,nonSeizureData),axis = 0)\n",
        "\n",
        "# Calculate EEG features\n",
        "[X,y] = create_data_matrix(allData, True, nrSeizures, nrChannels, fRange, fs, M, fLowerLimit, fUpperLimit)\n",
        "print(\"X:\", X.shape)\n",
        "print(\"y:\", y.shape)\n",
        "\n",
        "print('Logistic Regression classifier trained on data from pooled subjects')\n",
        "X_train, X_test, y_train, y_test = train_test_split(X, y, test_size=0.25, random_state=42)\n",
        "clf=LogisticRegression(max_iter  = 200)\n",
        "clf.fit(X_train, y_train)\n",
        "print(\"Accuracy: \", clf.score(X_test, y_test))\n"
      ],
      "execution_count": 0,
      "outputs": [
        {
          "output_type": "stream",
          "text": [
            "X: (340, 437)\n",
            "y: (340,)\n",
            "Logistic Regression classifier trained on data from pooled subjects\n"
          ],
          "name": "stdout"
        },
        {
          "output_type": "stream",
          "text": [
            "/usr/local/lib/python3.6/dist-packages/sklearn/linear_model/logistic.py:433: FutureWarning: Default solver will be changed to 'lbfgs' in 0.22. Specify a solver to silence this warning.\n",
            "  FutureWarning)\n"
          ],
          "name": "stderr"
        },
        {
          "output_type": "stream",
          "text": [
            "Accuracy:  0.7176470588235294\n"
          ],
          "name": "stdout"
        }
      ]
    },
    {
      "metadata": {
        "id": "o1xtmouNIKdw",
        "colab_type": "code",
        "colab": {}
      },
      "cell_type": "code",
      "source": [
        ""
      ],
      "execution_count": 0,
      "outputs": []
    },
    {
      "metadata": {
        "id": "6B3Ole02Yw6j",
        "colab_type": "code",
        "outputId": "c4bd6e5e-5e48-40f5-8487-64ed2a6fae23",
        "colab": {
          "base_uri": "https://localhost:8080/",
          "height": 34
        }
      },
      "cell_type": "code",
      "source": [
        "print(allData.shape)"
      ],
      "execution_count": 0,
      "outputs": [
        {
          "output_type": "stream",
          "text": [
            "(340, 23, 3584)\n"
          ],
          "name": "stdout"
        }
      ]
    },
    {
      "metadata": {
        "id": "6h1xOy6iE3bA",
        "colab_type": "code",
        "colab": {}
      },
      "cell_type": "code",
      "source": [
        "# FEATURES\n",
        "\n",
        "import numpy as np\n",
        "from scipy import signal\n",
        "\n",
        "# Hjorth parameters (time domain)\n",
        "# https://en.wikipedia.org/wiki/Hjorth_parameters\n",
        "def hjorth_mobility(x):\n",
        "    num = np.var(np.diff(x))\n",
        "    den = np.var(x)\n",
        "    if den > 0:\n",
        "        return np.sqrt(num / den)\n",
        "    else:\n",
        "        return 0.0\n",
        "\n",
        "def hjorth_parameters(x):\n",
        "    activity=np.var(x)\n",
        "    mobility=hjorth_mobility(x)\n",
        "    if mobility > 0:\n",
        "        complexity=hjorth_mobility(np.diff(x)) / mobility\n",
        "    else:\n",
        "        complexity=0.0\n",
        "    return np.array([activity, mobility, complexity])\n",
        "\n",
        "#Calculates power spectral density for an eeg segment\n",
        "#inputs: \n",
        "#signalMat: signal matrix for chunk\n",
        "#fs: sampling density\n",
        "#n: number of channels\n",
        "#outputs: \n",
        "#f: frequency\n",
        "#Pwelch: power spectral density calculated by Welch's method\n",
        "def psd(signalMat,fs,n,fRange):\n",
        "    Pwelch = np.zeros((n,fRange))\n",
        "    for i in range(n):\n",
        "        F,Pwelch[i,:] = signal.welch(signalMat[i,:],fs,scaling = 'spectrum')\n",
        "    return(F,Pwelch)\n",
        "\n",
        "# Absolute band power\n",
        "# Combined power in M frequency bands\n",
        "def absolute_power(f, PSD,M,l,h):\n",
        "    length = (h-l)/M\n",
        "    power = []\n",
        "    k = l\n",
        "    for i in range(M):\n",
        "        power.append(sum(PSD[np.where((f > k) & (f <= k+length))]))\n",
        "        k +=length\n",
        "    return(power)\n",
        "    \n",
        "#Relative power of delta, theta, alpha \n",
        "#and beta waves for a single channel\n",
        "def relative_power(f,PSD,M,l,h):\n",
        "    absPow = absolute_power(f,PSD,M,l,h)\n",
        "    tot = sum(PSD)\n",
        "    if tot > 0.0:\n",
        "        return(absPow/tot)\n",
        "    else:\n",
        "        return 0.0\n",
        "\n",
        "# Calculate relative band power for the whole data set\n",
        "# THINK: Might want to do the same for absolute power\n",
        "def relative_power_all(allData, nrSeizures, nrChannels, fRange, fs, M, fLowerLimit, fUpperLimit):\n",
        "    dataPSD = np.zeros((nrSeizures*2,nrChannels,fRange))\n",
        "    for i in range(nrSeizures*2):\n",
        "        [F,dataPSD[i,:,:]] = psd(allData[i,:,:],fs,nrChannels,fRange)\n",
        "\n",
        "    dataRelPower = np.zeros((nrSeizures*2,nrChannels,M))\n",
        "    for i in range(nrSeizures*2):\n",
        "        for j in range(nrChannels):\n",
        "            dataRelPower[i,j,:] = relative_power(F,dataPSD[i,j,:],M,fLowerLimit,fUpperLimit)\n",
        "    return(dataRelPower)\n",
        "    \n",
        "def create_data_matrix(allData, flatten, nrSeizures, nrChannels, fRange, fs, M, fLowerLimit, fUpperLimit):\n",
        "    dataRelPower = relative_power_all(allData, nrSeizures, nrChannels, fRange, fs, M, fLowerLimit, fUpperLimit)\n",
        "\n",
        "    n = allData.shape[0]\n",
        "    hjopar = np.zeros((n,3*23))\n",
        "    for i in range(n):\n",
        "      for j in range(23):\n",
        "        hjopar[i,3*j:(3*j+3)] = hjorth_parameters(allData[i,j,:])\n",
        "        \n",
        "    if flatten:\n",
        "        dataRelPowerFlat = np.zeros((nrSeizures*2,M*nrChannels))\n",
        "        for i in range(nrSeizures*2):\n",
        "            dataRelPowerFlat[i,:] = dataRelPower[i,:,:].flatten()\n",
        "        dataRelPowerFlat = np.c_[dataRelPowerFlat, hjopar]\n",
        "        X = dataRelPowerFlat\n",
        "        y = np.concatenate((np.repeat(1,nrSeizures),np.repeat(0,nrSeizures)))\n",
        "    else:\n",
        "        # (channels*features matrix, e.g. for use in convolutional nets)\n",
        "        X = np.expand_dims(dataRelPower,axis = 3)\n",
        "        y = np.concatenate((np.repeat(1,nrSeizures),np.repeat(0,nrSeizures)))\n",
        "    return(X,y)\n"
      ],
      "execution_count": 0,
      "outputs": []
    },
    {
      "metadata": {
        "id": "lXugKsRHZWeS",
        "colab_type": "code",
        "outputId": "54d70005-543b-4a2f-ceac-f2708067f82c",
        "colab": {
          "base_uri": "https://localhost:8080/",
          "height": 51
        }
      },
      "cell_type": "code",
      "source": [
        "A = np.array([[1,2,3], [4,5,6]])\n",
        "B = np.array([[10], [10]])\n",
        "\n",
        "print(np.c_[A, B])"
      ],
      "execution_count": 0,
      "outputs": [
        {
          "output_type": "stream",
          "text": [
            "[[ 1  2  3 10]\n",
            " [ 4  5  6 10]]\n"
          ],
          "name": "stdout"
        }
      ]
    },
    {
      "metadata": {
        "id": "aCnrupwEHIno",
        "colab_type": "code",
        "outputId": "be8db5fc-ed5f-497f-b477-261af21afcdb",
        "colab": {
          "base_uri": "https://localhost:8080/",
          "height": 2254
        }
      },
      "cell_type": "code",
      "source": [
        "# PATIENT SPECIFIC\n",
        "\n",
        "# -*- coding: utf-8 -*-\n",
        "\n",
        "# Patient-specific classifier\n",
        "\n",
        "# Pre: Execute main.py\n",
        "\n",
        "import ast\n",
        "\n",
        "def fixIndex(i):\n",
        "    if i < 10:\n",
        "        i = '0'+str(i)\n",
        "    return(str(i))\n",
        "\n",
        "nonSeizureFileNames = open('nonSeizureFileNames.txt', 'r')\n",
        "nonSeizureFileNames = nonSeizureFileNames.read().split('\\n')\n",
        "\n",
        "with open('seizureDict.txt', 'r') as f:\n",
        "    s = f.read()\n",
        "    seizureDict = ast.literal_eval(s)\n",
        "\n",
        "scores = np.zeros((nrPatients))\n",
        "\n",
        "for testPatient in range(1,nrPatients+1):\n",
        "    #gets index of seizures that belong to testPatient (+nrSeizures since seizure chunks are first in allData)\n",
        "    prefix = 'chb'+fixIndex(testPatient)\n",
        "    nonSeizIndices = [i+nrSeizures for i, s in enumerate(nonSeizureFileNames) if s.startswith(prefix)]\n",
        "    testPatientKeys = [i for i in seizureDict.keys() if i.startswith(prefix)]\n",
        "    k = 0\n",
        "    seizIndices = []\n",
        "    for key in seizureDict:    \n",
        "        for i in range(len(seizureDict[key])):\n",
        "            if key in testPatientKeys:\n",
        "                seizIndices.append(k)\n",
        "            k = k+1\n",
        "\n",
        "    print(\"Patient \", testPatient, \"n_seizures=\",len(seizIndices), \"n_nonseizures=\",len(nonSeizIndices))\n",
        "    \n",
        "    X_test = np.concatenate((X[seizIndices,:],X[nonSeizIndices,:]),axis = 0)\n",
        "    y_test = np.concatenate((y[seizIndices],y[nonSeizIndices]))\n",
        "    X_train = np.delete(X, nonSeizIndices, axis=0)\n",
        "    X_train = np.delete(X_train, seizIndices, axis=0)\n",
        "    y_train = np.delete(y,nonSeizIndices)\n",
        "    y_train = np.delete(y_train,seizIndices)\n",
        "    # THINK: Collect statistics on seizure/nonseizure\n",
        "    print(\"Train:\", X_train.shape, \"Test:\", X_test.shape)\n",
        "\n",
        "    # Classify individual patient\n",
        "    # Insert code here ...\n",
        "    clf=LogisticRegression(max_iter = 200)\n",
        "    clf.fit(X_train, y_train)\n",
        "    scores[testPatient-1] = clf.score(X_test, y_test)\n",
        "    print(\"Accuracy: \", scores[testPatient-1])\n",
        "\n",
        "print('Mean accuracy:', np.mean(scores))\n",
        "#print('Accuracy Quantiles:', np.quantile(scores, q = [0, 0.25, 0.5, 0.75, 1]))"
      ],
      "execution_count": 0,
      "outputs": [
        {
          "output_type": "stream",
          "text": [
            "Patient  1 n_seizures= 7 n_nonseizures= 11\n",
            "Train: (322, 437) Test: (18, 437)\n"
          ],
          "name": "stdout"
        },
        {
          "output_type": "stream",
          "text": [
            "/usr/local/lib/python3.6/dist-packages/sklearn/linear_model/logistic.py:433: FutureWarning: Default solver will be changed to 'lbfgs' in 0.22. Specify a solver to silence this warning.\n",
            "  FutureWarning)\n"
          ],
          "name": "stderr"
        },
        {
          "output_type": "stream",
          "text": [
            "Accuracy:  0.9444444444444444\n",
            "Patient  2 n_seizures= 2 n_nonseizures= 15\n",
            "Train: (323, 437) Test: (17, 437)\n"
          ],
          "name": "stdout"
        },
        {
          "output_type": "stream",
          "text": [
            "/usr/local/lib/python3.6/dist-packages/sklearn/linear_model/logistic.py:433: FutureWarning: Default solver will be changed to 'lbfgs' in 0.22. Specify a solver to silence this warning.\n",
            "  FutureWarning)\n"
          ],
          "name": "stderr"
        },
        {
          "output_type": "stream",
          "text": [
            "Accuracy:  0.7647058823529411\n",
            "Patient  3 n_seizures= 7 n_nonseizures= 5\n",
            "Train: (328, 437) Test: (12, 437)\n"
          ],
          "name": "stdout"
        },
        {
          "output_type": "stream",
          "text": [
            "/usr/local/lib/python3.6/dist-packages/sklearn/linear_model/logistic.py:433: FutureWarning: Default solver will be changed to 'lbfgs' in 0.22. Specify a solver to silence this warning.\n",
            "  FutureWarning)\n"
          ],
          "name": "stderr"
        },
        {
          "output_type": "stream",
          "text": [
            "Accuracy:  0.5833333333333334\n",
            "Patient  4 n_seizures= 4 n_nonseizures= 14\n",
            "Train: (322, 437) Test: (18, 437)\n"
          ],
          "name": "stdout"
        },
        {
          "output_type": "stream",
          "text": [
            "/usr/local/lib/python3.6/dist-packages/sklearn/linear_model/logistic.py:433: FutureWarning: Default solver will be changed to 'lbfgs' in 0.22. Specify a solver to silence this warning.\n",
            "  FutureWarning)\n"
          ],
          "name": "stderr"
        },
        {
          "output_type": "stream",
          "text": [
            "Accuracy:  0.6111111111111112\n",
            "Patient  5 n_seizures= 4 n_nonseizures= 15\n",
            "Train: (321, 437) Test: (19, 437)\n"
          ],
          "name": "stdout"
        },
        {
          "output_type": "stream",
          "text": [
            "/usr/local/lib/python3.6/dist-packages/sklearn/linear_model/logistic.py:433: FutureWarning: Default solver will be changed to 'lbfgs' in 0.22. Specify a solver to silence this warning.\n",
            "  FutureWarning)\n"
          ],
          "name": "stderr"
        },
        {
          "output_type": "stream",
          "text": [
            "Accuracy:  0.7894736842105263\n",
            "Patient  6 n_seizures= 10 n_nonseizures= 3\n",
            "Train: (327, 437) Test: (13, 437)\n"
          ],
          "name": "stdout"
        },
        {
          "output_type": "stream",
          "text": [
            "/usr/local/lib/python3.6/dist-packages/sklearn/linear_model/logistic.py:433: FutureWarning: Default solver will be changed to 'lbfgs' in 0.22. Specify a solver to silence this warning.\n",
            "  FutureWarning)\n"
          ],
          "name": "stderr"
        },
        {
          "output_type": "stream",
          "text": [
            "Accuracy:  0.38461538461538464\n",
            "Patient  7 n_seizures= 3 n_nonseizures= 4\n",
            "Train: (333, 437) Test: (7, 437)\n"
          ],
          "name": "stdout"
        },
        {
          "output_type": "stream",
          "text": [
            "/usr/local/lib/python3.6/dist-packages/sklearn/linear_model/logistic.py:433: FutureWarning: Default solver will be changed to 'lbfgs' in 0.22. Specify a solver to silence this warning.\n",
            "  FutureWarning)\n"
          ],
          "name": "stderr"
        },
        {
          "output_type": "stream",
          "text": [
            "Accuracy:  0.5714285714285714\n",
            "Patient  8 n_seizures= 5 n_nonseizures= 5\n",
            "Train: (330, 437) Test: (10, 437)\n"
          ],
          "name": "stdout"
        },
        {
          "output_type": "stream",
          "text": [
            "/usr/local/lib/python3.6/dist-packages/sklearn/linear_model/logistic.py:433: FutureWarning: Default solver will be changed to 'lbfgs' in 0.22. Specify a solver to silence this warning.\n",
            "  FutureWarning)\n"
          ],
          "name": "stderr"
        },
        {
          "output_type": "stream",
          "text": [
            "Accuracy:  0.9\n",
            "Patient  9 n_seizures= 4 n_nonseizures= 4\n",
            "Train: (332, 437) Test: (8, 437)\n"
          ],
          "name": "stdout"
        },
        {
          "output_type": "stream",
          "text": [
            "/usr/local/lib/python3.6/dist-packages/sklearn/linear_model/logistic.py:433: FutureWarning: Default solver will be changed to 'lbfgs' in 0.22. Specify a solver to silence this warning.\n",
            "  FutureWarning)\n"
          ],
          "name": "stderr"
        },
        {
          "output_type": "stream",
          "text": [
            "Accuracy:  1.0\n",
            "Patient  10 n_seizures= 7 n_nonseizures= 9\n",
            "Train: (324, 437) Test: (16, 437)\n"
          ],
          "name": "stdout"
        },
        {
          "output_type": "stream",
          "text": [
            "/usr/local/lib/python3.6/dist-packages/sklearn/linear_model/logistic.py:433: FutureWarning: Default solver will be changed to 'lbfgs' in 0.22. Specify a solver to silence this warning.\n",
            "  FutureWarning)\n"
          ],
          "name": "stderr"
        },
        {
          "output_type": "stream",
          "text": [
            "Accuracy:  0.8125\n",
            "Patient  11 n_seizures= 3 n_nonseizures= 13\n",
            "Train: (324, 437) Test: (16, 437)\n"
          ],
          "name": "stdout"
        },
        {
          "output_type": "stream",
          "text": [
            "/usr/local/lib/python3.6/dist-packages/sklearn/linear_model/logistic.py:433: FutureWarning: Default solver will be changed to 'lbfgs' in 0.22. Specify a solver to silence this warning.\n",
            "  FutureWarning)\n"
          ],
          "name": "stderr"
        },
        {
          "output_type": "stream",
          "text": [
            "Accuracy:  0.75\n",
            "Patient  12 n_seizures= 27 n_nonseizures= 4\n",
            "Train: (309, 437) Test: (31, 437)\n"
          ],
          "name": "stdout"
        },
        {
          "output_type": "stream",
          "text": [
            "/usr/local/lib/python3.6/dist-packages/sklearn/linear_model/logistic.py:433: FutureWarning: Default solver will be changed to 'lbfgs' in 0.22. Specify a solver to silence this warning.\n",
            "  FutureWarning)\n"
          ],
          "name": "stderr"
        },
        {
          "output_type": "stream",
          "text": [
            "Accuracy:  0.2903225806451613\n",
            "Patient  13 n_seizures= 10 n_nonseizures= 1\n",
            "Train: (329, 437) Test: (11, 437)\n"
          ],
          "name": "stdout"
        },
        {
          "output_type": "stream",
          "text": [
            "/usr/local/lib/python3.6/dist-packages/sklearn/linear_model/logistic.py:433: FutureWarning: Default solver will be changed to 'lbfgs' in 0.22. Specify a solver to silence this warning.\n",
            "  FutureWarning)\n"
          ],
          "name": "stderr"
        },
        {
          "output_type": "stream",
          "text": [
            "Accuracy:  0.6363636363636364\n",
            "Patient  14 n_seizures= 8 n_nonseizures= 6\n",
            "Train: (326, 437) Test: (14, 437)\n"
          ],
          "name": "stdout"
        },
        {
          "output_type": "stream",
          "text": [
            "/usr/local/lib/python3.6/dist-packages/sklearn/linear_model/logistic.py:433: FutureWarning: Default solver will be changed to 'lbfgs' in 0.22. Specify a solver to silence this warning.\n",
            "  FutureWarning)\n"
          ],
          "name": "stderr"
        },
        {
          "output_type": "stream",
          "text": [
            "Accuracy:  0.5\n",
            "Patient  15 n_seizures= 19 n_nonseizures= 3\n",
            "Train: (318, 437) Test: (22, 437)\n"
          ],
          "name": "stdout"
        },
        {
          "output_type": "stream",
          "text": [
            "/usr/local/lib/python3.6/dist-packages/sklearn/linear_model/logistic.py:433: FutureWarning: Default solver will be changed to 'lbfgs' in 0.22. Specify a solver to silence this warning.\n",
            "  FutureWarning)\n"
          ],
          "name": "stderr"
        },
        {
          "output_type": "stream",
          "text": [
            "Accuracy:  0.13636363636363635\n",
            "Patient  16 n_seizures= 1 n_nonseizures= 2\n",
            "Train: (337, 437) Test: (3, 437)\n"
          ],
          "name": "stdout"
        },
        {
          "output_type": "stream",
          "text": [
            "/usr/local/lib/python3.6/dist-packages/sklearn/linear_model/logistic.py:433: FutureWarning: Default solver will be changed to 'lbfgs' in 0.22. Specify a solver to silence this warning.\n",
            "  FutureWarning)\n"
          ],
          "name": "stderr"
        },
        {
          "output_type": "stream",
          "text": [
            "Accuracy:  0.6666666666666666\n",
            "Patient  17 n_seizures= 3 n_nonseizures= 6\n",
            "Train: (331, 437) Test: (9, 437)\n"
          ],
          "name": "stdout"
        },
        {
          "output_type": "stream",
          "text": [
            "/usr/local/lib/python3.6/dist-packages/sklearn/linear_model/logistic.py:433: FutureWarning: Default solver will be changed to 'lbfgs' in 0.22. Specify a solver to silence this warning.\n",
            "  FutureWarning)\n"
          ],
          "name": "stderr"
        },
        {
          "output_type": "stream",
          "text": [
            "Accuracy:  0.7777777777777778\n",
            "Patient  18 n_seizures= 6 n_nonseizures= 11\n",
            "Train: (323, 437) Test: (17, 437)\n"
          ],
          "name": "stdout"
        },
        {
          "output_type": "stream",
          "text": [
            "/usr/local/lib/python3.6/dist-packages/sklearn/linear_model/logistic.py:433: FutureWarning: Default solver will be changed to 'lbfgs' in 0.22. Specify a solver to silence this warning.\n",
            "  FutureWarning)\n"
          ],
          "name": "stderr"
        },
        {
          "output_type": "stream",
          "text": [
            "Accuracy:  0.5882352941176471\n",
            "Patient  19 n_seizures= 3 n_nonseizures= 10\n",
            "Train: (327, 437) Test: (13, 437)\n"
          ],
          "name": "stdout"
        },
        {
          "output_type": "stream",
          "text": [
            "/usr/local/lib/python3.6/dist-packages/sklearn/linear_model/logistic.py:433: FutureWarning: Default solver will be changed to 'lbfgs' in 0.22. Specify a solver to silence this warning.\n",
            "  FutureWarning)\n"
          ],
          "name": "stderr"
        },
        {
          "output_type": "stream",
          "text": [
            "Accuracy:  0.7692307692307693\n",
            "Patient  20 n_seizures= 7 n_nonseizures= 8\n",
            "Train: (325, 437) Test: (15, 437)\n"
          ],
          "name": "stdout"
        },
        {
          "output_type": "stream",
          "text": [
            "/usr/local/lib/python3.6/dist-packages/sklearn/linear_model/logistic.py:433: FutureWarning: Default solver will be changed to 'lbfgs' in 0.22. Specify a solver to silence this warning.\n",
            "  FutureWarning)\n"
          ],
          "name": "stderr"
        },
        {
          "output_type": "stream",
          "text": [
            "Accuracy:  0.5333333333333333\n",
            "Patient  21 n_seizures= 4 n_nonseizures= 9\n",
            "Train: (327, 437) Test: (13, 437)\n"
          ],
          "name": "stdout"
        },
        {
          "output_type": "stream",
          "text": [
            "/usr/local/lib/python3.6/dist-packages/sklearn/linear_model/logistic.py:433: FutureWarning: Default solver will be changed to 'lbfgs' in 0.22. Specify a solver to silence this warning.\n",
            "  FutureWarning)\n"
          ],
          "name": "stderr"
        },
        {
          "output_type": "stream",
          "text": [
            "Accuracy:  0.6153846153846154\n",
            "Patient  22 n_seizures= 3 n_nonseizures= 8\n",
            "Train: (329, 437) Test: (11, 437)\n"
          ],
          "name": "stdout"
        },
        {
          "output_type": "stream",
          "text": [
            "/usr/local/lib/python3.6/dist-packages/sklearn/linear_model/logistic.py:433: FutureWarning: Default solver will be changed to 'lbfgs' in 0.22. Specify a solver to silence this warning.\n",
            "  FutureWarning)\n"
          ],
          "name": "stderr"
        },
        {
          "output_type": "stream",
          "text": [
            "Accuracy:  0.8181818181818182\n",
            "Patient  23 n_seizures= 7 n_nonseizures= 1\n",
            "Train: (332, 437) Test: (8, 437)\n"
          ],
          "name": "stdout"
        },
        {
          "output_type": "stream",
          "text": [
            "/usr/local/lib/python3.6/dist-packages/sklearn/linear_model/logistic.py:433: FutureWarning: Default solver will be changed to 'lbfgs' in 0.22. Specify a solver to silence this warning.\n",
            "  FutureWarning)\n"
          ],
          "name": "stderr"
        },
        {
          "output_type": "stream",
          "text": [
            "Accuracy:  0.875\n",
            "Patient  24 n_seizures= 16 n_nonseizures= 3\n",
            "Train: (321, 437) Test: (19, 437)\n"
          ],
          "name": "stdout"
        },
        {
          "output_type": "stream",
          "text": [
            "/usr/local/lib/python3.6/dist-packages/sklearn/linear_model/logistic.py:433: FutureWarning: Default solver will be changed to 'lbfgs' in 0.22. Specify a solver to silence this warning.\n",
            "  FutureWarning)\n"
          ],
          "name": "stderr"
        },
        {
          "output_type": "stream",
          "text": [
            "Accuracy:  0.8421052631578947\n",
            "Mean accuracy: 0.6733574084466362\n"
          ],
          "name": "stdout"
        },
        {
          "output_type": "error",
          "ename": "AttributeError",
          "evalue": "ignored",
          "traceback": [
            "\u001b[0;31m---------------------------------------------------------------------------\u001b[0m",
            "\u001b[0;31mAttributeError\u001b[0m                            Traceback (most recent call last)",
            "\u001b[0;32m<ipython-input-27-598126432902>\u001b[0m in \u001b[0;36m<module>\u001b[0;34m()\u001b[0m\n\u001b[1;32m     48\u001b[0m \u001b[0;34m\u001b[0m\u001b[0m\n\u001b[1;32m     49\u001b[0m \u001b[0mprint\u001b[0m\u001b[0;34m(\u001b[0m\u001b[0;34m'Mean accuracy:'\u001b[0m\u001b[0;34m,\u001b[0m \u001b[0mnp\u001b[0m\u001b[0;34m.\u001b[0m\u001b[0mmean\u001b[0m\u001b[0;34m(\u001b[0m\u001b[0mscores\u001b[0m\u001b[0;34m)\u001b[0m\u001b[0;34m)\u001b[0m\u001b[0;34m\u001b[0m\u001b[0;34m\u001b[0m\u001b[0m\n\u001b[0;32m---> 50\u001b[0;31m \u001b[0mprint\u001b[0m\u001b[0;34m(\u001b[0m\u001b[0;34m'Accuracy Quantiles:'\u001b[0m\u001b[0;34m,\u001b[0m \u001b[0mnp\u001b[0m\u001b[0;34m.\u001b[0m\u001b[0mquantile\u001b[0m\u001b[0;34m(\u001b[0m\u001b[0mscores\u001b[0m\u001b[0;34m,\u001b[0m \u001b[0mq\u001b[0m \u001b[0;34m=\u001b[0m \u001b[0;34m[\u001b[0m\u001b[0;36m0\u001b[0m\u001b[0;34m,\u001b[0m \u001b[0;36m0.25\u001b[0m\u001b[0;34m,\u001b[0m \u001b[0;36m0.5\u001b[0m\u001b[0;34m,\u001b[0m \u001b[0;36m0.75\u001b[0m\u001b[0;34m,\u001b[0m \u001b[0;36m1\u001b[0m\u001b[0;34m]\u001b[0m\u001b[0;34m)\u001b[0m\u001b[0;34m)\u001b[0m\u001b[0;34m\u001b[0m\u001b[0;34m\u001b[0m\u001b[0m\n\u001b[0m",
            "\u001b[0;31mAttributeError\u001b[0m: module 'numpy' has no attribute 'quantile'"
          ]
        }
      ]
    },
    {
      "metadata": {
        "id": "SWQ8X1Bji8dq",
        "colab_type": "code",
        "outputId": "50acd674-2fac-45cf-9d53-55ee4f487a34",
        "colab": {
          "base_uri": "https://localhost:8080/",
          "height": 163
        }
      },
      "cell_type": "code",
      "source": [
        "print('Mean accuracy:', np.quantile(scores, 0.5))"
      ],
      "execution_count": 0,
      "outputs": [
        {
          "output_type": "error",
          "ename": "AttributeError",
          "evalue": "ignored",
          "traceback": [
            "\u001b[0;31m---------------------------------------------------------------------------\u001b[0m",
            "\u001b[0;31mAttributeError\u001b[0m                            Traceback (most recent call last)",
            "\u001b[0;32m<ipython-input-35-03eae546441d>\u001b[0m in \u001b[0;36m<module>\u001b[0;34m()\u001b[0m\n\u001b[0;32m----> 1\u001b[0;31m \u001b[0mprint\u001b[0m\u001b[0;34m(\u001b[0m\u001b[0;34m'Mean accuracy:'\u001b[0m\u001b[0;34m,\u001b[0m \u001b[0mnp\u001b[0m\u001b[0;34m.\u001b[0m\u001b[0mquantiles\u001b[0m\u001b[0;34m(\u001b[0m\u001b[0mscores\u001b[0m\u001b[0;34m,\u001b[0m \u001b[0;36m0.5\u001b[0m\u001b[0;34m)\u001b[0m\u001b[0;34m)\u001b[0m\u001b[0;34m\u001b[0m\u001b[0;34m\u001b[0m\u001b[0m\n\u001b[0m",
            "\u001b[0;31mAttributeError\u001b[0m: module 'numpy' has no attribute 'quantiles'"
          ]
        }
      ]
    }
  ]
}